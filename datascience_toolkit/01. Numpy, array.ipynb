{
 "cells": [
  {
   "cell_type": "markdown",
   "id": "3972bed2",
   "metadata": {},
   "source": [
    "# Numpy, array"
   ]
  },
  {
   "cell_type": "markdown",
   "id": "bc6b742d",
   "metadata": {},
   "source": [
    "## 1. Numpy 기본 정보\n",
    "### 1-1. Numpy n차원\n",
    "1. 1차원 축(행) : axis0 -> Vector\n",
    "1. 2차원 축(열) : axis1 -> Matrix\n",
    "1. 3차원 축(채널) : axis2 -> Tensor(3차원 이상)\n",
    "1. numpy는 `동일한 데이터 타입의 요소`로 이뤄진다.\n",
    "    - list 타입은 [1, 2, 'code', [5, 6]] 처럼 list 안에 문자열이나 리스트 요소가 들어갈 수 있지만\n",
    "      numpy의 배열(array)은 [1, 2, 3, 4] 처럼 동일한 타입의 요소만 들어갈 수 있다.\n",
    "1. array의 길이는 고정되어 있다.\n",
    "    - list의 경우 .append()를 통해 데이터를 추가하여 길이를 변경할 수 있지만, 배열의 경우 길이를 변경하려면 새롭게 배열을 생성해야 한다."
   ]
  },
  {
   "cell_type": "code",
   "execution_count": 1,
   "id": "2764d440",
   "metadata": {},
   "outputs": [
    {
     "name": "stdout",
     "output_type": "stream",
     "text": [
      "4\n",
      "int64\n",
      "2\n"
     ]
    }
   ],
   "source": [
    "import numpy as np\n",
    "# Numpy 기본1\n",
    "list = [0, 1, 2, 3]\n",
    "# print(list)\n",
    "\n",
    "array = np.array(list) # array라는 변수는 numpy 데이터이므로 size, dtype과 같은 다양한 함수 제공\n",
    "print(array.size)\n",
    "print(array.dtype)\n",
    "print(array[2])"
   ]
  },
  {
   "cell_type": "code",
   "execution_count": 2,
   "id": "983f307b",
   "metadata": {},
   "outputs": [
    {
     "name": "stdout",
     "output_type": "stream",
     "text": [
      "1차원 배열 만들기 0~4까지\n",
      "[0 1 2 3 4]\n",
      "\n",
      "2차원 zeroes를 사용하여 0의 실수형태 배열 만들기\n",
      "[[0. 0. 0. 0.]\n",
      " [0. 0. 0. 0.]\n",
      " [0. 0. 0. 0.]\n",
      " [0. 0. 0. 0.]]\n",
      "\n",
      "2차원 ones를 사용하여 1의 실수형태 배열 만들기\n",
      "[[1. 1. 1. 1.]\n",
      " [1. 1. 1. 1.]\n",
      " [1. 1. 1. 1.]\n",
      " [1. 1. 1. 1.]]\n",
      "\n",
      "row 5개, column 6개의 0~49 랜덤정수 2차원 배열 만들기 \n",
      "[[13 16 20 44 40 50]\n",
      " [38 17 33 34 29 39]\n",
      " [45 27 44 18  1 20]\n",
      " [48 49 24 15 49 29]\n",
      " [46  5 13 40 47 25]]\n",
      "\n",
      "row 3개, column 3개의 평균이 0, 표준편차 1인 2차원 배열 만들기\n",
      "np.random.normal은 numpy에서 정규분포를 따르는 난수를 생성할 때 사용\n",
      "[[ 0.65689053  0.72013915  0.25158186]\n",
      " [-0.19847971 -0.0417849  -2.13407857]\n",
      " [-0.61575475  0.226677   -0.27315758]]\n"
     ]
    }
   ],
   "source": [
    "# Numpy 기본2\n",
    "import numpy as np\n",
    "print(\"1차원 배열 만들기 0~4까지\")\n",
    "array1 = np.arange(5)\n",
    "print(array1)\n",
    "\n",
    "print(\"\\n2차원 zeroes를 사용하여 0의 실수형태 배열 만들기\")\n",
    "array2 = np.zeros((4, 4), dtype=float) # 4*4 2차원 배열형태, 실수형태로\n",
    "print(array2)\n",
    "\n",
    "print(\"\\n2차원 ones를 사용하여 1의 실수형태 배열 만들기\")\n",
    "array3 = np.ones((4, 4), dtype=float)\n",
    "print(array3)\n",
    "\n",
    "# 0부터 49까지 랜덤하게 출력하기\n",
    "print(\"\\nrow 5개, column 6개의 0~49 랜덤정수 2차원 배열 만들기 \")\n",
    "array4 = np.random.randint(1, 51, (5, 6))\n",
    "print(array4)\n",
    "\n",
    "# 평균이 0, 표준편차 1인 표준 정규\n",
    "print(\"\\nrow 3개, column 3개의 평균이 0, 표준편차 1인 2차원 배열 만들기\")\n",
    "print(\"np.random.normal은 numpy에서 정규분포를 따르는 난수를 생성할 때 사용\")\n",
    "array5 = np.random.normal(0, 1, (3, 3))\n",
    "print(array5)"
   ]
  },
  {
   "cell_type": "code",
   "execution_count": 3,
   "id": "43e0e8e9",
   "metadata": {
    "scrolled": false
   },
   "outputs": [
    {
     "name": "stdout",
     "output_type": "stream",
     "text": [
      "배열은 np.concatenate함수를 이용해 특정 축(axis=n)을 지정하여 하나의 배열로 만들 수 있음\n",
      "[1 2 3 4 5 6]\n",
      "\n",
      "배열은 np.reshape 함수를 이용해 원소의 수는 유지하며 차원 형태를 변경할 수 있음\n",
      "1차원 배열 :\n",
      " [1 2 3 4]\n",
      "2차원 배열 :\n",
      " [[1 2]\n",
      " [3 4]]\n"
     ]
    }
   ],
   "source": [
    "# Numpy 기본3 배열 합치기\n",
    "array1 = np.array([1, 2, 3])\n",
    "array2 = np.array([4, 5, 6])\n",
    "\n",
    "array3 = np.concatenate([array1, array2])\n",
    "\n",
    "array7 = np.concatenate([array1, array2], axis=0)\n",
    "print(\"배열은 np.concatenate함수를 이용해 특정 축(axis=n)을 지정하여 하나의 배열로 만들 수 있음\")\n",
    "print(array3)\n",
    "\n",
    "# Numpy 기본4 배열 변경하기 reshape\n",
    "\n",
    "array4 = np.array([1, 2, 3, 4]) # 1차원 벡터 형태 데이터를\n",
    "array5 = array4.reshape((2, 2)) # 2차원 배열형태 데이터로 변경\n",
    "print(\"\\n배열은 np.reshape 함수를 이용해 원소의 수는 유지하며 차원 형태를 변경할 수 있음\")\n",
    "print(\"1차원 배열 :\\n\", array4)\n",
    "print(\"2차원 배열 :\\n\", array5)"
   ]
  },
  {
   "cell_type": "markdown",
   "id": "e4bc9228",
   "metadata": {},
   "source": [
    "**배열의 차원이 일치하지 않은 상태에서 배열끼리 합칠(concatenate)경우**\n",
    " \n",
    "기본적으로 차원이 서로 일치하지 않는 배열을 합칠 경우 오류가 발생한다.\n",
    "(1,4), (4,2) 형태의 두 배열은 각각 (1row, 4col), (4row, 2col)로 서로 열과 행이 맞지 않는다.\n",
    "이 상태에서 `axis=0`으로 결합한다는건 두 열의 수가 같아야 하지만, 두 배열의 열은 4, 2로 서로 일치하지 않는다.\n",
    "`axis=1` 으로 결합할려면 행의 수가 같아야 하지만, 두 배열의 행은 1, 4로 일치하지 않는다."
   ]
  },
  {
   "cell_type": "code",
   "execution_count": 4,
   "id": "7fd4abd7",
   "metadata": {
    "scrolled": true
   },
   "outputs": [
    {
     "ename": "ValueError",
     "evalue": "all the input array dimensions except for the concatenation axis must match exactly, but along dimension 1, the array at index 0 has size 4 and the array at index 1 has size 2",
     "output_type": "error",
     "traceback": [
      "\u001b[1;31m---------------------------------------------------------------------------\u001b[0m",
      "\u001b[1;31mValueError\u001b[0m                                Traceback (most recent call last)",
      "Cell \u001b[1;32mIn[4], line 5\u001b[0m\n\u001b[0;32m      2\u001b[0m array1 \u001b[38;5;241m=\u001b[39m np\u001b[38;5;241m.\u001b[39marange(\u001b[38;5;241m4\u001b[39m)\u001b[38;5;241m.\u001b[39mreshape(\u001b[38;5;241m1\u001b[39m, \u001b[38;5;241m4\u001b[39m)\n\u001b[0;32m      3\u001b[0m array2 \u001b[38;5;241m=\u001b[39m np\u001b[38;5;241m.\u001b[39marange(\u001b[38;5;241m8\u001b[39m)\u001b[38;5;241m.\u001b[39mreshape(\u001b[38;5;241m4\u001b[39m, \u001b[38;5;241m2\u001b[39m)\n\u001b[1;32m----> 5\u001b[0m array3 \u001b[38;5;241m=\u001b[39m \u001b[43mnp\u001b[49m\u001b[38;5;241;43m.\u001b[39;49m\u001b[43mconcatenate\u001b[49m\u001b[43m(\u001b[49m\u001b[43m[\u001b[49m\u001b[43marray1\u001b[49m\u001b[43m,\u001b[49m\u001b[43m \u001b[49m\u001b[43marray2\u001b[49m\u001b[43m]\u001b[49m\u001b[43m,\u001b[49m\u001b[43m \u001b[49m\u001b[43maxis\u001b[49m\u001b[38;5;241;43m=\u001b[39;49m\u001b[38;5;241;43m0\u001b[39;49m\u001b[43m)\u001b[49m\n\u001b[0;32m      6\u001b[0m \u001b[38;5;28mprint\u001b[39m(array1)\n\u001b[0;32m      7\u001b[0m \u001b[38;5;28mprint\u001b[39m(\u001b[38;5;124m'\u001b[39m\u001b[38;5;124m-----------------\u001b[39m\u001b[38;5;124m'\u001b[39m)\n",
      "\u001b[1;31mValueError\u001b[0m: all the input array dimensions except for the concatenation axis must match exactly, but along dimension 1, the array at index 0 has size 4 and the array at index 1 has size 2"
     ]
    }
   ],
   "source": [
    "import numpy as np\n",
    "array1 = np.arange(4).reshape(1, 4)\n",
    "array2 = np.arange(8).reshape(4, 2)\n",
    "\n",
    "array3 = np.concatenate([array1, array2], axis=0)\n",
    "print(array1)\n",
    "print('-----------------')\n",
    "print(array2)\n",
    "print('-----------------')\n",
    "print(array3)\n",
    "\n"
   ]
  },
  {
   "cell_type": "markdown",
   "id": "7a63d6e0",
   "metadata": {},
   "source": [
    "## 2. Array 속성 확인\n",
    "### 2-1. 자료형 확인\n",
    "1. type(array)를 사용\n",
    "### 2-2. 배열 크기 확인\n",
    "1. array.size를 사용\n",
    "### 2-3. 배열 모양\n",
    "1. array.shape를 사용"
   ]
  },
  {
   "cell_type": "code",
   "execution_count": 5,
   "id": "9c85665e",
   "metadata": {},
   "outputs": [
    {
     "name": "stdout",
     "output_type": "stream",
     "text": [
      "확인할 배열 : [1 2 3 4 5 6]\n",
      "\n",
      "2-1. 배열의 자료형 확인하기\n",
      "<class 'numpy.ndarray'>\n",
      "\n",
      "2-2. 배열의 크기 확인하기\n",
      "6\n",
      "\n",
      "2-3. 배열의 모양 확인하기\n",
      "(6,)\n"
     ]
    }
   ],
   "source": [
    "array1 = np.array([1, 2, 3, 4, 5, 6])\n",
    "print(\"확인할 배열 :\", array1)\n",
    "# 자료형 확인\n",
    "print(\"\\n2-1. 배열의 자료형 확인하기\")\n",
    "print(type(array1))\n",
    "\n",
    "# 배열의 크기 확인\n",
    "print(\"\\n2-2. 배열의 크기 확인하기\")\n",
    "print(array1.size)\n",
    "\n",
    "# 배열의 모양 확인\n",
    "print(\"\\n2-3. 배열의 모양 확인하기\")\n",
    "print(array1.shape)"
   ]
  }
 ],
 "metadata": {
  "kernelspec": {
   "display_name": "Python 3 (ipykernel)",
   "language": "python",
   "name": "python3"
  },
  "language_info": {
   "codemirror_mode": {
    "name": "ipython",
    "version": 3
   },
   "file_extension": ".py",
   "mimetype": "text/x-python",
   "name": "python",
   "nbconvert_exporter": "python",
   "pygments_lexer": "ipython3",
   "version": "3.12.7"
  }
 },
 "nbformat": 4,
 "nbformat_minor": 5
}
