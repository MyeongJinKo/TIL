{
 "cells": [
  {
   "cell_type": "markdown",
   "id": "d12382cf",
   "metadata": {},
   "source": [
    "# 1. 기초통계"
   ]
  },
  {
   "cell_type": "code",
   "execution_count": 7,
   "id": "6f7c4948-bdca-4d7d-b381-93e58bbeaac8",
   "metadata": {},
   "outputs": [],
   "source": [
    "import pandas as pd\n",
    "import matplotlib.pyplot as plt"
   ]
  },
  {
   "cell_type": "code",
   "execution_count": 5,
   "id": "34ba8515",
   "metadata": {
    "scrolled": false
   },
   "outputs": [
    {
     "data": {
      "text/html": [
       "<div>\n",
       "<style scoped>\n",
       "    .dataframe tbody tr th:only-of-type {\n",
       "        vertical-align: middle;\n",
       "    }\n",
       "\n",
       "    .dataframe tbody tr th {\n",
       "        vertical-align: top;\n",
       "    }\n",
       "\n",
       "    .dataframe thead th {\n",
       "        text-align: right;\n",
       "    }\n",
       "</style>\n",
       "<table border=\"1\" class=\"dataframe\">\n",
       "  <thead>\n",
       "    <tr style=\"text-align: right;\">\n",
       "      <th></th>\n",
       "      <th>name</th>\n",
       "      <th>english_score</th>\n",
       "      <th>math_score</th>\n",
       "      <th>science_score</th>\n",
       "    </tr>\n",
       "  </thead>\n",
       "  <tbody>\n",
       "    <tr>\n",
       "      <th>0</th>\n",
       "      <td>Hyesung</td>\n",
       "      <td>82.5</td>\n",
       "      <td>52.5</td>\n",
       "      <td>76.0</td>\n",
       "    </tr>\n",
       "    <tr>\n",
       "      <th>1</th>\n",
       "      <td>Gyujin</td>\n",
       "      <td>80.0</td>\n",
       "      <td>65.0</td>\n",
       "      <td>84.0</td>\n",
       "    </tr>\n",
       "    <tr>\n",
       "      <th>2</th>\n",
       "      <td>Sangwon</td>\n",
       "      <td>70.0</td>\n",
       "      <td>45.0</td>\n",
       "      <td>76.0</td>\n",
       "    </tr>\n",
       "    <tr>\n",
       "      <th>3</th>\n",
       "      <td>Minsoo</td>\n",
       "      <td>60.0</td>\n",
       "      <td>52.5</td>\n",
       "      <td>68.0</td>\n",
       "    </tr>\n",
       "    <tr>\n",
       "      <th>4</th>\n",
       "      <td>Jihwan</td>\n",
       "      <td>70.0</td>\n",
       "      <td>67.5</td>\n",
       "      <td>80.0</td>\n",
       "    </tr>\n",
       "  </tbody>\n",
       "</table>\n",
       "</div>"
      ],
      "text/plain": [
       "      name  english_score  math_score  science_score\n",
       "0  Hyesung           82.5        52.5           76.0\n",
       "1   Gyujin           80.0        65.0           84.0\n",
       "2  Sangwon           70.0        45.0           76.0\n",
       "3   Minsoo           60.0        52.5           68.0\n",
       "4   Jihwan           70.0        67.5           80.0"
      ]
     },
     "execution_count": 5,
     "metadata": {},
     "output_type": "execute_result"
    }
   ],
   "source": [
    "df = pd.read_csv(\"C:/Users/GBOOK/Codeit/data (1)/data/test.csv\")\n",
    "df.head()"
   ]
  },
  {
   "cell_type": "code",
   "execution_count": 6,
   "id": "f1851fa6",
   "metadata": {},
   "outputs": [
    {
     "data": {
      "text/html": [
       "<div>\n",
       "<style scoped>\n",
       "    .dataframe tbody tr th:only-of-type {\n",
       "        vertical-align: middle;\n",
       "    }\n",
       "\n",
       "    .dataframe tbody tr th {\n",
       "        vertical-align: top;\n",
       "    }\n",
       "\n",
       "    .dataframe thead th {\n",
       "        text-align: right;\n",
       "    }\n",
       "</style>\n",
       "<table border=\"1\" class=\"dataframe\">\n",
       "  <thead>\n",
       "    <tr style=\"text-align: right;\">\n",
       "      <th></th>\n",
       "      <th>english_score</th>\n",
       "      <th>math_score</th>\n",
       "      <th>science_score</th>\n",
       "    </tr>\n",
       "  </thead>\n",
       "  <tbody>\n",
       "    <tr>\n",
       "      <th>count</th>\n",
       "      <td>25.000000</td>\n",
       "      <td>25.000000</td>\n",
       "      <td>25.000000</td>\n",
       "    </tr>\n",
       "    <tr>\n",
       "      <th>mean</th>\n",
       "      <td>62.520000</td>\n",
       "      <td>62.000000</td>\n",
       "      <td>77.120000</td>\n",
       "    </tr>\n",
       "    <tr>\n",
       "      <th>std</th>\n",
       "      <td>12.482054</td>\n",
       "      <td>13.346348</td>\n",
       "      <td>7.327573</td>\n",
       "    </tr>\n",
       "    <tr>\n",
       "      <th>min</th>\n",
       "      <td>36.000000</td>\n",
       "      <td>32.500000</td>\n",
       "      <td>64.000000</td>\n",
       "    </tr>\n",
       "    <tr>\n",
       "      <th>25%</th>\n",
       "      <td>57.500000</td>\n",
       "      <td>52.500000</td>\n",
       "      <td>70.000000</td>\n",
       "    </tr>\n",
       "    <tr>\n",
       "      <th>50%</th>\n",
       "      <td>62.500000</td>\n",
       "      <td>65.000000</td>\n",
       "      <td>78.000000</td>\n",
       "    </tr>\n",
       "    <tr>\n",
       "      <th>75%</th>\n",
       "      <td>70.000000</td>\n",
       "      <td>72.500000</td>\n",
       "      <td>84.000000</td>\n",
       "    </tr>\n",
       "    <tr>\n",
       "      <th>max</th>\n",
       "      <td>82.500000</td>\n",
       "      <td>85.000000</td>\n",
       "      <td>88.000000</td>\n",
       "    </tr>\n",
       "  </tbody>\n",
       "</table>\n",
       "</div>"
      ],
      "text/plain": [
       "       english_score  math_score  science_score\n",
       "count      25.000000   25.000000      25.000000\n",
       "mean       62.520000   62.000000      77.120000\n",
       "std        12.482054   13.346348       7.327573\n",
       "min        36.000000   32.500000      64.000000\n",
       "25%        57.500000   52.500000      70.000000\n",
       "50%        62.500000   65.000000      78.000000\n",
       "75%        70.000000   72.500000      84.000000\n",
       "max        82.500000   85.000000      88.000000"
      ]
     },
     "execution_count": 6,
     "metadata": {},
     "output_type": "execute_result"
    }
   ],
   "source": [
    "df.describe() "
   ]
  },
  {
   "cell_type": "code",
   "execution_count": 7,
   "id": "9051eabd",
   "metadata": {
    "scrolled": true
   },
   "outputs": [
    {
     "data": {
      "text/html": [
       "<div>\n",
       "<style scoped>\n",
       "    .dataframe tbody tr th:only-of-type {\n",
       "        vertical-align: middle;\n",
       "    }\n",
       "\n",
       "    .dataframe tbody tr th {\n",
       "        vertical-align: top;\n",
       "    }\n",
       "\n",
       "    .dataframe thead th {\n",
       "        text-align: right;\n",
       "    }\n",
       "</style>\n",
       "<table border=\"1\" class=\"dataframe\">\n",
       "  <thead>\n",
       "    <tr style=\"text-align: right;\">\n",
       "      <th></th>\n",
       "      <th>name</th>\n",
       "      <th>english_score</th>\n",
       "      <th>math_score</th>\n",
       "      <th>science_score</th>\n",
       "    </tr>\n",
       "  </thead>\n",
       "  <tbody>\n",
       "    <tr>\n",
       "      <th>count</th>\n",
       "      <td>25</td>\n",
       "      <td>25.000000</td>\n",
       "      <td>25.000000</td>\n",
       "      <td>25.000000</td>\n",
       "    </tr>\n",
       "    <tr>\n",
       "      <th>unique</th>\n",
       "      <td>24</td>\n",
       "      <td>NaN</td>\n",
       "      <td>NaN</td>\n",
       "      <td>NaN</td>\n",
       "    </tr>\n",
       "    <tr>\n",
       "      <th>top</th>\n",
       "      <td>Minsoo</td>\n",
       "      <td>NaN</td>\n",
       "      <td>NaN</td>\n",
       "      <td>NaN</td>\n",
       "    </tr>\n",
       "    <tr>\n",
       "      <th>freq</th>\n",
       "      <td>2</td>\n",
       "      <td>NaN</td>\n",
       "      <td>NaN</td>\n",
       "      <td>NaN</td>\n",
       "    </tr>\n",
       "    <tr>\n",
       "      <th>mean</th>\n",
       "      <td>NaN</td>\n",
       "      <td>62.520000</td>\n",
       "      <td>62.000000</td>\n",
       "      <td>77.120000</td>\n",
       "    </tr>\n",
       "    <tr>\n",
       "      <th>std</th>\n",
       "      <td>NaN</td>\n",
       "      <td>12.482054</td>\n",
       "      <td>13.346348</td>\n",
       "      <td>7.327573</td>\n",
       "    </tr>\n",
       "    <tr>\n",
       "      <th>min</th>\n",
       "      <td>NaN</td>\n",
       "      <td>36.000000</td>\n",
       "      <td>32.500000</td>\n",
       "      <td>64.000000</td>\n",
       "    </tr>\n",
       "    <tr>\n",
       "      <th>25%</th>\n",
       "      <td>NaN</td>\n",
       "      <td>57.500000</td>\n",
       "      <td>52.500000</td>\n",
       "      <td>70.000000</td>\n",
       "    </tr>\n",
       "    <tr>\n",
       "      <th>50%</th>\n",
       "      <td>NaN</td>\n",
       "      <td>62.500000</td>\n",
       "      <td>65.000000</td>\n",
       "      <td>78.000000</td>\n",
       "    </tr>\n",
       "    <tr>\n",
       "      <th>75%</th>\n",
       "      <td>NaN</td>\n",
       "      <td>70.000000</td>\n",
       "      <td>72.500000</td>\n",
       "      <td>84.000000</td>\n",
       "    </tr>\n",
       "    <tr>\n",
       "      <th>max</th>\n",
       "      <td>NaN</td>\n",
       "      <td>82.500000</td>\n",
       "      <td>85.000000</td>\n",
       "      <td>88.000000</td>\n",
       "    </tr>\n",
       "  </tbody>\n",
       "</table>\n",
       "</div>"
      ],
      "text/plain": [
       "          name  english_score  math_score  science_score\n",
       "count       25      25.000000   25.000000      25.000000\n",
       "unique      24            NaN         NaN            NaN\n",
       "top     Minsoo            NaN         NaN            NaN\n",
       "freq         2            NaN         NaN            NaN\n",
       "mean       NaN      62.520000   62.000000      77.120000\n",
       "std        NaN      12.482054   13.346348       7.327573\n",
       "min        NaN      36.000000   32.500000      64.000000\n",
       "25%        NaN      57.500000   52.500000      70.000000\n",
       "50%        NaN      62.500000   65.000000      78.000000\n",
       "75%        NaN      70.000000   72.500000      84.000000\n",
       "max        NaN      82.500000   85.000000      88.000000"
      ]
     },
     "execution_count": 7,
     "metadata": {},
     "output_type": "execute_result"
    }
   ],
   "source": [
    "df.describe(include='all') # 범주형 데이터까지 볼려면 include='all' 을 넣으면 된다"
   ]
  },
  {
   "cell_type": "markdown",
   "id": "6edcc5e1",
   "metadata": {},
   "source": [
    "# 2. 박스플롯과 이상치"
   ]
  },
  {
   "cell_type": "code",
   "execution_count": 3,
   "id": "7dd7a6e1",
   "metadata": {},
   "outputs": [
    {
     "data": {
      "text/html": [
       "<div>\n",
       "<style scoped>\n",
       "    .dataframe tbody tr th:only-of-type {\n",
       "        vertical-align: middle;\n",
       "    }\n",
       "\n",
       "    .dataframe tbody tr th {\n",
       "        vertical-align: top;\n",
       "    }\n",
       "\n",
       "    .dataframe thead th {\n",
       "        text-align: right;\n",
       "    }\n",
       "</style>\n",
       "<table border=\"1\" class=\"dataframe\">\n",
       "  <thead>\n",
       "    <tr style=\"text-align: right;\">\n",
       "      <th></th>\n",
       "      <th>english_score</th>\n",
       "      <th>math_score</th>\n",
       "      <th>science_score</th>\n",
       "    </tr>\n",
       "  </thead>\n",
       "  <tbody>\n",
       "    <tr>\n",
       "      <th>0</th>\n",
       "      <td>42.5</td>\n",
       "      <td>82.5</td>\n",
       "      <td>86.0</td>\n",
       "    </tr>\n",
       "    <tr>\n",
       "      <th>1</th>\n",
       "      <td>50.0</td>\n",
       "      <td>72.5</td>\n",
       "      <td>70.0</td>\n",
       "    </tr>\n",
       "    <tr>\n",
       "      <th>2</th>\n",
       "      <td>62.5</td>\n",
       "      <td>92.5</td>\n",
       "      <td>86.0</td>\n",
       "    </tr>\n",
       "    <tr>\n",
       "      <th>3</th>\n",
       "      <td>60.0</td>\n",
       "      <td>77.5</td>\n",
       "      <td>86.0</td>\n",
       "    </tr>\n",
       "    <tr>\n",
       "      <th>4</th>\n",
       "      <td>65.0</td>\n",
       "      <td>85.0</td>\n",
       "      <td>86.0</td>\n",
       "    </tr>\n",
       "    <tr>\n",
       "      <th>...</th>\n",
       "      <td>...</td>\n",
       "      <td>...</td>\n",
       "      <td>...</td>\n",
       "    </tr>\n",
       "    <tr>\n",
       "      <th>295</th>\n",
       "      <td>65.0</td>\n",
       "      <td>32.5</td>\n",
       "      <td>84.0</td>\n",
       "    </tr>\n",
       "    <tr>\n",
       "      <th>296</th>\n",
       "      <td>67.5</td>\n",
       "      <td>80.0</td>\n",
       "      <td>80.0</td>\n",
       "    </tr>\n",
       "    <tr>\n",
       "      <th>297</th>\n",
       "      <td>65.0</td>\n",
       "      <td>55.0</td>\n",
       "      <td>70.0</td>\n",
       "    </tr>\n",
       "    <tr>\n",
       "      <th>298</th>\n",
       "      <td>57.5</td>\n",
       "      <td>65.0</td>\n",
       "      <td>84.0</td>\n",
       "    </tr>\n",
       "    <tr>\n",
       "      <th>299</th>\n",
       "      <td>40.0</td>\n",
       "      <td>65.0</td>\n",
       "      <td>80.0</td>\n",
       "    </tr>\n",
       "  </tbody>\n",
       "</table>\n",
       "<p>300 rows × 3 columns</p>\n",
       "</div>"
      ],
      "text/plain": [
       "     english_score  math_score  science_score\n",
       "0             42.5        82.5           86.0\n",
       "1             50.0        72.5           70.0\n",
       "2             62.5        92.5           86.0\n",
       "3             60.0        77.5           86.0\n",
       "4             65.0        85.0           86.0\n",
       "..             ...         ...            ...\n",
       "295           65.0        32.5           84.0\n",
       "296           67.5        80.0           80.0\n",
       "297           65.0        55.0           70.0\n",
       "298           57.5        65.0           84.0\n",
       "299           40.0        65.0           80.0\n",
       "\n",
       "[300 rows x 3 columns]"
      ]
     },
     "execution_count": 3,
     "metadata": {},
     "output_type": "execute_result"
    }
   ],
   "source": [
    "df = pd.read_csv(\"C:/Users/GBOOK/Codeit/data (1)/data/test_school.csv\")\n",
    "df"
   ]
  },
  {
   "cell_type": "code",
   "execution_count": 6,
   "id": "b249e17f",
   "metadata": {
    "scrolled": false
   },
   "outputs": [
    {
     "data": {
      "text/html": [
       "<div>\n",
       "<style scoped>\n",
       "    .dataframe tbody tr th:only-of-type {\n",
       "        vertical-align: middle;\n",
       "    }\n",
       "\n",
       "    .dataframe tbody tr th {\n",
       "        vertical-align: top;\n",
       "    }\n",
       "\n",
       "    .dataframe thead th {\n",
       "        text-align: right;\n",
       "    }\n",
       "</style>\n",
       "<table border=\"1\" class=\"dataframe\">\n",
       "  <thead>\n",
       "    <tr style=\"text-align: right;\">\n",
       "      <th></th>\n",
       "      <th>english_score</th>\n",
       "      <th>math_score</th>\n",
       "      <th>science_score</th>\n",
       "    </tr>\n",
       "  </thead>\n",
       "  <tbody>\n",
       "    <tr>\n",
       "      <th>count</th>\n",
       "      <td>300.000000</td>\n",
       "      <td>300.000000</td>\n",
       "      <td>300.00000</td>\n",
       "    </tr>\n",
       "    <tr>\n",
       "      <th>mean</th>\n",
       "      <td>62.295667</td>\n",
       "      <td>64.763333</td>\n",
       "      <td>78.75000</td>\n",
       "    </tr>\n",
       "    <tr>\n",
       "      <th>std</th>\n",
       "      <td>10.528884</td>\n",
       "      <td>14.225454</td>\n",
       "      <td>8.22301</td>\n",
       "    </tr>\n",
       "    <tr>\n",
       "      <th>min</th>\n",
       "      <td>27.000000</td>\n",
       "      <td>25.000000</td>\n",
       "      <td>45.00000</td>\n",
       "    </tr>\n",
       "    <tr>\n",
       "      <th>25%</th>\n",
       "      <td>57.500000</td>\n",
       "      <td>55.000000</td>\n",
       "      <td>72.37500</td>\n",
       "    </tr>\n",
       "    <tr>\n",
       "      <th>50%</th>\n",
       "      <td>62.500000</td>\n",
       "      <td>67.500000</td>\n",
       "      <td>80.00000</td>\n",
       "    </tr>\n",
       "    <tr>\n",
       "      <th>75%</th>\n",
       "      <td>70.000000</td>\n",
       "      <td>75.000000</td>\n",
       "      <td>85.00000</td>\n",
       "    </tr>\n",
       "    <tr>\n",
       "      <th>max</th>\n",
       "      <td>97.000000</td>\n",
       "      <td>97.500000</td>\n",
       "      <td>96.00000</td>\n",
       "    </tr>\n",
       "  </tbody>\n",
       "</table>\n",
       "</div>"
      ],
      "text/plain": [
       "       english_score  math_score  science_score\n",
       "count     300.000000  300.000000      300.00000\n",
       "mean       62.295667   64.763333       78.75000\n",
       "std        10.528884   14.225454        8.22301\n",
       "min        27.000000   25.000000       45.00000\n",
       "25%        57.500000   55.000000       72.37500\n",
       "50%        62.500000   67.500000       80.00000\n",
       "75%        70.000000   75.000000       85.00000\n",
       "max        97.000000   97.500000       96.00000"
      ]
     },
     "execution_count": 6,
     "metadata": {},
     "output_type": "execute_result"
    }
   ],
   "source": [
    "df.describe()"
   ]
  },
  {
   "cell_type": "markdown",
   "id": "4d573186",
   "metadata": {},
   "source": [
    "### 2-1. 영어점수 분포"
   ]
  },
  {
   "cell_type": "code",
   "execution_count": 11,
   "id": "ede997cc",
   "metadata": {
    "scrolled": true
   },
   "outputs": [
    {
     "data": {
      "image/png": "[encoded data removed]",
      "text/plain": [
       "<Figure size 640x480 with 1 Axes>"
      ]
     },
     "metadata": {},
     "output_type": "display_data"
    }
   ],
   "source": [
    "df['english_score'].plot(kind='box')\n",
    "plt.grid(linestyle='--')\n",
    "plt.show()"
   ]
  },
  {
   "cell_type": "code",
   "execution_count": 12,
   "id": "4e6d3f5b",
   "metadata": {},
   "outputs": [
    {
     "data": {
      "text/plain": [
       "(np.float64(57.5), np.float64(70.0))"
      ]
     },
     "execution_count": 12,
     "metadata": {},
     "output_type": "execute_result"
    }
   ],
   "source": [
    "q1 = df['english_score'].quantile(0.25) # 1분위수 구하기\n",
    "q3 = df['english_score'].quantile(0.75) # 3분위수 구하기\n",
    "q1, q3"
   ]
  },
  {
   "cell_type": "code",
   "execution_count": 13,
   "id": "86fc49b8",
   "metadata": {},
   "outputs": [
    {
     "data": {
      "text/plain": [
       "np.float64(12.5)"
      ]
     },
     "execution_count": 13,
     "metadata": {},
     "output_type": "execute_result"
    }
   ],
   "source": [
    "# iqr 저 박스안 차이\n",
    "iqr = q3 - q1\n",
    "iqr"
   ]
  },
  {
   "cell_type": "code",
   "execution_count": 14,
   "id": "6fb539e0",
   "metadata": {},
   "outputs": [
    {
     "data": {
      "text/plain": [
       "(np.float64(38.75), np.float64(88.75))"
      ]
     },
     "execution_count": 14,
     "metadata": {},
     "output_type": "execute_result"
    }
   ],
   "source": [
    "lower_whisker = q1 - 1.5*iqr\n",
    "upper_whisker = q3 + 1.5*iqr\n",
    "lower_whisker, upper_whisker"
   ]
  },
  {
   "cell_type": "markdown",
   "id": "fe963a12",
   "metadata": {},
   "source": [
    "### 2-2. 과학점수 분포"
   ]
  },
  {
   "cell_type": "code",
   "execution_count": 15,
   "id": "6efacb26",
   "metadata": {},
   "outputs": [
    {
     "data": {
      "text/plain": [
       "(np.float64(103.9375), np.float64(53.4375))"
      ]
     },
     "execution_count": 15,
     "metadata": {},
     "output_type": "execute_result"
    }
   ],
   "source": [
    "q1 = df['science_score'].quantile(0.25)\n",
    "q3 = df['science_score'].quantile(0.75)\n",
    "\n",
    "iqr = q3 - q1\n",
    "\n",
    "upper_whisker = q3 + 1.5*iqr\n",
    "lower_whisker = q1 - 1.5*iqr\n",
    "\n",
    "upper_whisker, lower_whisker\n"
   ]
  },
  {
   "cell_type": "markdown",
   "id": "d9748dd2",
   "metadata": {},
   "source": [
    "### 2-3.  전체 데이터 박스플롯"
   ]
  },
  {
   "cell_type": "code",
   "execution_count": 16,
   "id": "97697392",
   "metadata": {
    "scrolled": true
   },
   "outputs": [
    {
     "data": {
      "image/png": "[encoded data removed]",
      "text/plain": [
       "<Figure size 640x480 with 1 Axes>"
      ]
     },
     "metadata": {},
     "output_type": "display_data"
    }
   ],
   "source": [
    "df.plot(kind='box')\n",
    "plt.show()\n",
    "\n",
    "# 박스안의 높이가 작을 때 : 하위 25명과 상위 75명의 점수 격차가 크지 않다."
   ]
  },
  {
   "cell_type": "markdown",
   "id": "b53d5799",
   "metadata": {},
   "source": [
    "# 3. 히스토그램"
   ]
  },
  {
   "cell_type": "markdown",
   "id": "3fe5c191",
   "metadata": {},
   "source": [
    "### 3-1. 데이터 타입\n",
    "히스토그램을 배우기 전, 헷갈리는 데이터 타입을 한번 더 확인\n",
    "1. **수치형(numerical data)** : \n",
    "\n",
    "    - 이산형 : 나이, 출산 횟수, 불량품 수, 사고건수, 차량대수 등 이산적인 값을 갖는 데이터. 수치적인 의미는 가지고 있으나 소수점으로 표현될 수 없는 경우\n",
    "    - 연속형 : 키, 몸무게, 길이 등 연속적인 값을 갖는 데이터, 수치적인 의미가 있으며, 소수점으로 표현되는 경우\n",
    "\n",
    "<br>\n",
    "\n",
    "2. **범주형(categorical data)** : \n",
    "\n",
    "    - 명목형(nominal data) : 성별, 성공 여부, 혈액형, 색깔, 주거지역 등 단순분류된 자료, 값이 달라진다고 좋고 나쁨이 없음.\n",
    "    - 순서형 : 만족도 조사, 병의 단계, 성적표 등 개별 값들이 이산적이며, 그들 사이에 순서 관계가 존재하는 자료, 값이 커짐에 따라 만족도가 좋아지고 있다고 할 수 있는 경우"
   ]
  },
  {
   "cell_type": "code",
   "execution_count": 17,
   "id": "c4a3529e",
   "metadata": {
    "scrolled": false
   },
   "outputs": [
    {
     "data": {
      "text/html": [
       "<div>\n",
       "<style scoped>\n",
       "    .dataframe tbody tr th:only-of-type {\n",
       "        vertical-align: middle;\n",
       "    }\n",
       "\n",
       "    .dataframe tbody tr th {\n",
       "        vertical-align: top;\n",
       "    }\n",
       "\n",
       "    .dataframe thead th {\n",
       "        text-align: right;\n",
       "    }\n",
       "</style>\n",
       "<table border=\"1\" class=\"dataframe\">\n",
       "  <thead>\n",
       "    <tr style=\"text-align: right;\">\n",
       "      <th></th>\n",
       "      <th>height</th>\n",
       "      <th>weight</th>\n",
       "    </tr>\n",
       "  </thead>\n",
       "  <tbody>\n",
       "    <tr>\n",
       "      <th>0</th>\n",
       "      <td>188.3</td>\n",
       "      <td>85.8</td>\n",
       "    </tr>\n",
       "    <tr>\n",
       "      <th>1</th>\n",
       "      <td>176.2</td>\n",
       "      <td>78.0</td>\n",
       "    </tr>\n",
       "    <tr>\n",
       "      <th>2</th>\n",
       "      <td>175.9</td>\n",
       "      <td>75.6</td>\n",
       "    </tr>\n",
       "    <tr>\n",
       "      <th>3</th>\n",
       "      <td>181.1</td>\n",
       "      <td>85.1</td>\n",
       "    </tr>\n",
       "    <tr>\n",
       "      <th>4</th>\n",
       "      <td>182.6</td>\n",
       "      <td>82.3</td>\n",
       "    </tr>\n",
       "    <tr>\n",
       "      <th>...</th>\n",
       "      <td>...</td>\n",
       "      <td>...</td>\n",
       "    </tr>\n",
       "    <tr>\n",
       "      <th>495</th>\n",
       "      <td>172.0</td>\n",
       "      <td>70.0</td>\n",
       "    </tr>\n",
       "    <tr>\n",
       "      <th>496</th>\n",
       "      <td>169.6</td>\n",
       "      <td>83.0</td>\n",
       "    </tr>\n",
       "    <tr>\n",
       "      <th>497</th>\n",
       "      <td>163.3</td>\n",
       "      <td>68.6</td>\n",
       "    </tr>\n",
       "    <tr>\n",
       "      <th>498</th>\n",
       "      <td>185.7</td>\n",
       "      <td>95.6</td>\n",
       "    </tr>\n",
       "    <tr>\n",
       "      <th>499</th>\n",
       "      <td>167.7</td>\n",
       "      <td>76.7</td>\n",
       "    </tr>\n",
       "  </tbody>\n",
       "</table>\n",
       "<p>500 rows × 2 columns</p>\n",
       "</div>"
      ],
      "text/plain": [
       "     height  weight\n",
       "0     188.3    85.8\n",
       "1     176.2    78.0\n",
       "2     175.9    75.6\n",
       "3     181.1    85.1\n",
       "4     182.6    82.3\n",
       "..      ...     ...\n",
       "495   172.0    70.0\n",
       "496   169.6    83.0\n",
       "497   163.3    68.6\n",
       "498   185.7    95.6\n",
       "499   167.7    76.7\n",
       "\n",
       "[500 rows x 2 columns]"
      ]
     },
     "execution_count": 17,
     "metadata": {},
     "output_type": "execute_result"
    }
   ],
   "source": [
    "df = pd.read_csv(\"descC:/Users/GBOOK/Codeit/data (1)/data/body.csv\")\n",
    "df\n"
   ]
  },
  {
   "cell_type": "markdown",
   "id": "db66fe84",
   "metadata": {},
   "source": [
    "### 3-2. 키 히스토그램\n",
    "\n",
    "히스토그램은 데이터 분포를 쉽게 파악하고, 전문적인 배경지식이 없어도 파악할 수 있다."
   ]
  },
  {
   "cell_type": "code",
   "execution_count": 29,
   "id": "251f2dcb",
   "metadata": {},
   "outputs": [
    {
     "data": {
      "image/png": "[encoded data removed]",
      "text/plain": [
       "<Figure size 640x480 with 1 Axes>"
      ]
     },
     "metadata": {},
     "output_type": "display_data"
    }
   ],
   "source": [
    "df['height'].plot(kind='hist', bins=10)\n",
    "plt.xlabel(\"height(cm)\")\n",
    "plt.ylabel(\"frequency(person)\")\n",
    "plt.show()"
   ]
  },
  {
   "cell_type": "markdown",
   "id": "93180e43",
   "metadata": {},
   "source": [
    "# 4. 모집단과 표본"
   ]
  },
  {
   "cell_type": "markdown",
   "id": "e7807f9b",
   "metadata": {},
   "source": [
    "### 4-1. 모집단(population)\n",
    "모집단은 조사할 집단의 전체를 뜻함\n",
    "### 4-2. 표본(sample)\n",
    "만약 전국 국민들에 대해 전부 조사는 어려움으로 표본을 추출하여 통계를 낼 수 있다. 이를 **추론통계(Inferential Statistics)** 라고 함\n",
    "### 4-3. 확률밀도함수(probability density function)\n",
    "**히스토그램**은 각 구간마다 값이 몇 개 있는지 확인할 수 있는 반면,\n",
    "\n",
    "**확률밀도함수**는 각 구간이 전체에서 차지하는 비율을 확인할 수 있다.\n",
    "\n",
    "**KDE Plot** 모집단 전체에서 그린것과 비슷하게 부드럽게 그릴 수 있다. \n",
    " - bw_method (bandwidth method) : 밴드폭, 값이 크면 데이터 전체 형태, 값이 작으면 세세하게 확인 가능"
   ]
  },
  {
   "cell_type": "code",
   "execution_count": 30,
   "id": "dd022f35",
   "metadata": {},
   "outputs": [
    {
     "data": {
      "text/html": [
       "<div>\n",
       "<style scoped>\n",
       "    .dataframe tbody tr th:only-of-type {\n",
       "        vertical-align: middle;\n",
       "    }\n",
       "\n",
       "    .dataframe tbody tr th {\n",
       "        vertical-align: top;\n",
       "    }\n",
       "\n",
       "    .dataframe thead th {\n",
       "        text-align: right;\n",
       "    }\n",
       "</style>\n",
       "<table border=\"1\" class=\"dataframe\">\n",
       "  <thead>\n",
       "    <tr style=\"text-align: right;\">\n",
       "      <th></th>\n",
       "      <th>height</th>\n",
       "      <th>weight</th>\n",
       "    </tr>\n",
       "  </thead>\n",
       "  <tbody>\n",
       "    <tr>\n",
       "      <th>0</th>\n",
       "      <td>188.3</td>\n",
       "      <td>85.8</td>\n",
       "    </tr>\n",
       "    <tr>\n",
       "      <th>1</th>\n",
       "      <td>176.2</td>\n",
       "      <td>78.0</td>\n",
       "    </tr>\n",
       "    <tr>\n",
       "      <th>2</th>\n",
       "      <td>175.9</td>\n",
       "      <td>75.6</td>\n",
       "    </tr>\n",
       "    <tr>\n",
       "      <th>3</th>\n",
       "      <td>181.1</td>\n",
       "      <td>85.1</td>\n",
       "    </tr>\n",
       "    <tr>\n",
       "      <th>4</th>\n",
       "      <td>182.6</td>\n",
       "      <td>82.3</td>\n",
       "    </tr>\n",
       "    <tr>\n",
       "      <th>...</th>\n",
       "      <td>...</td>\n",
       "      <td>...</td>\n",
       "    </tr>\n",
       "    <tr>\n",
       "      <th>495</th>\n",
       "      <td>172.0</td>\n",
       "      <td>70.0</td>\n",
       "    </tr>\n",
       "    <tr>\n",
       "      <th>496</th>\n",
       "      <td>169.6</td>\n",
       "      <td>83.0</td>\n",
       "    </tr>\n",
       "    <tr>\n",
       "      <th>497</th>\n",
       "      <td>163.3</td>\n",
       "      <td>68.6</td>\n",
       "    </tr>\n",
       "    <tr>\n",
       "      <th>498</th>\n",
       "      <td>185.7</td>\n",
       "      <td>95.6</td>\n",
       "    </tr>\n",
       "    <tr>\n",
       "      <th>499</th>\n",
       "      <td>167.7</td>\n",
       "      <td>76.7</td>\n",
       "    </tr>\n",
       "  </tbody>\n",
       "</table>\n",
       "<p>500 rows × 2 columns</p>\n",
       "</div>"
      ],
      "text/plain": [
       "     height  weight\n",
       "0     188.3    85.8\n",
       "1     176.2    78.0\n",
       "2     175.9    75.6\n",
       "3     181.1    85.1\n",
       "4     182.6    82.3\n",
       "..      ...     ...\n",
       "495   172.0    70.0\n",
       "496   169.6    83.0\n",
       "497   163.3    68.6\n",
       "498   185.7    95.6\n",
       "499   167.7    76.7\n",
       "\n",
       "[500 rows x 2 columns]"
      ]
     },
     "execution_count": 30,
     "metadata": {},
     "output_type": "execute_result"
    }
   ],
   "source": [
    "df = pd.read_csv(\"C:/Users/GBOOK/Codeit/data (1)/data/body.csv\")\n",
    "df"
   ]
  },
  {
   "cell_type": "code",
   "execution_count": 35,
   "id": "21eefe28",
   "metadata": {},
   "outputs": [
    {
     "data": {
      "image/png": "[encoded data removed]",
      "text/plain": [
       "<Figure size 640x480 with 1 Axes>"
      ]
     },
     "metadata": {},
     "output_type": "display_data"
    }
   ],
   "source": [
    "df['height'].plot(kind='kde')\n",
    "plt.title(\"height, bw_mothod > None\")\n",
    "plt.show()"
   ]
  },
  {
   "cell_type": "code",
   "execution_count": 34,
   "id": "a4eea9d3",
   "metadata": {},
   "outputs": [
    {
     "data": {
      "image/png": "[encoded data removed]",
      "text/plain": [
       "<Figure size 640x480 with 1 Axes>"
      ]
     },
     "metadata": {},
     "output_type": "display_data"
    }
   ],
   "source": [
    "df['height'].plot(kind='kde', bw_method=0.1)\n",
    "plt.title(\"height, bw_mothod > down\")\n",
    "plt.show()"
   ]
  },
  {
   "cell_type": "code",
   "execution_count": 36,
   "id": "a51c14ea",
   "metadata": {},
   "outputs": [
    {
     "data": {
      "image/png": "[encoded data removed]",
      "text/plain": [
       "<Figure size 640x480 with 1 Axes>"
      ]
     },
     "metadata": {},
     "output_type": "display_data"
    }
   ],
   "source": [
    "df['height'].plot(kind='kde', bw_method=5)\n",
    "plt.title(\"height, bw_mothod > up\")\n",
    "plt.show()"
   ]
  },
  {
   "cell_type": "markdown",
   "id": "33910ef6",
   "metadata": {},
   "source": [
    "### 4-4. 정규분포\n",
    "\n",
    "**정규분포(normal distribution)** : 데이터가 평균을 중심으로 대칭적으로 분포하는 형태를 가진 확률분포를 말한다.\n",
    "흔히 **종모양의 곡선**이라고도 부르며, 수많은 자연현상이 정규분포의 형태를 따른다. 분포가 평균을 중심으로 대칭이기 때문에 평균값이 곧 중앙값(median)과 최빈값 최빈값(mode)가 된다.\n",
    "\n",
    "**왜도(Skewness)** : 데이터가 평균을 기준으로 얼마나 한쪽으로 치우쳤는지를 나타내는 정도이다. 정규분포처럼 평균값이 중앙값, 최빈값과 일치하지 않고 어느 한쪽으로 치우쳐있다. \n",
    "\n",
    "  - 양의 왜도(Positive Skewness) : 데이터가 평균보다 큰 값 쪽으로 치우쳐 있을 때, 그래프의 오른쪽 꼬리가 더 길어지는 형태\n",
    "      - 양의 왜도 예) 소득분포(대부분의 사람들은 낮은 연봉을 받고, 소수의 사람이 고소득 연봉을 받는다.)\n",
    "      \n",
    "<br>\n",
    "\n",
    "  - 음의 왜도(Negative Skewness) : 데이터가 평균보다 작은 값 쪽으로 치우쳐 있을 때, 그래프의 왼쪽 꼬리가 더 길어지는 형태\n",
    "      - 음의 왜도 예) 나이에 따른 사망률(젊은 나이에 사망하는 사람들보다 고령에 사망하는 사람들이 많다.)\n",
    "      \n",
    "<br>\n",
    "\n",
    "  - 0 왜도(Zero Skewness) : 왜도가 0에 가까울수록 데이터가 어느 한 쪽으로 치우쳐 있지 않고 대칭적으로 분포하고 있음을 나타낸다.\n",
    "      - 대표적인 0 왜도 예) 정규분포"
   ]
  },
  {
   "cell_type": "markdown",
   "id": "a42db904",
   "metadata": {},
   "source": [
    "### 4-5. 분산과 표준편차\n",
    "\n",
    "**분산(Variance)** : 데이터가 평균으로부터 얼마나 떨어져 있는지를 지표로 나타내는 통계적 지표이다. 각 데이터 값이 평균과 차이나는 정도를 **편차**라고 말하며, 각각의 편차를 제곱한 제곱값을 전부 더하고, 데이터의 개수로 나누면 분산이 나오게 된다. <편차의 제곱의 평균>\n",
    "\n",
    "여기서 편차에 절대값을 취한 값에 데이터 개수를 나누면 안될까? 라는 의문이 있을 수 있다. 하지만 제곱을 하게 될 경우 편차가 큰 값들을 더욱 부각시킬 수 있다. 만약 편차가 각각 4, 12인 데이터가 있다면, 편차에 절대값을 취한 후 차이는 8이지만, 제곱을 취한 후 차이를 계산해보면 각각 16, 144 이므로 128이 나오게 된다. (단, 표본 분산의 경우 데이터의 개수 -1로 나눠준다.)\n",
    "\n",
    "**표준편차(Standard Deviation)** : 분산에 `root` 를 씌우면 표준편차(std)가 된다."
   ]
  },
  {
   "cell_type": "code",
   "execution_count": 37,
   "id": "a3f97f76",
   "metadata": {},
   "outputs": [
    {
     "data": {
      "text/html": [
       "<div>\n",
       "<style scoped>\n",
       "    .dataframe tbody tr th:only-of-type {\n",
       "        vertical-align: middle;\n",
       "    }\n",
       "\n",
       "    .dataframe tbody tr th {\n",
       "        vertical-align: top;\n",
       "    }\n",
       "\n",
       "    .dataframe thead th {\n",
       "        text-align: right;\n",
       "    }\n",
       "</style>\n",
       "<table border=\"1\" class=\"dataframe\">\n",
       "  <thead>\n",
       "    <tr style=\"text-align: right;\">\n",
       "      <th></th>\n",
       "      <th>height</th>\n",
       "      <th>weight</th>\n",
       "    </tr>\n",
       "  </thead>\n",
       "  <tbody>\n",
       "    <tr>\n",
       "      <th>0</th>\n",
       "      <td>188.3</td>\n",
       "      <td>85.8</td>\n",
       "    </tr>\n",
       "    <tr>\n",
       "      <th>1</th>\n",
       "      <td>176.2</td>\n",
       "      <td>78.0</td>\n",
       "    </tr>\n",
       "    <tr>\n",
       "      <th>2</th>\n",
       "      <td>175.9</td>\n",
       "      <td>75.6</td>\n",
       "    </tr>\n",
       "    <tr>\n",
       "      <th>3</th>\n",
       "      <td>181.1</td>\n",
       "      <td>85.1</td>\n",
       "    </tr>\n",
       "    <tr>\n",
       "      <th>4</th>\n",
       "      <td>182.6</td>\n",
       "      <td>82.3</td>\n",
       "    </tr>\n",
       "    <tr>\n",
       "      <th>...</th>\n",
       "      <td>...</td>\n",
       "      <td>...</td>\n",
       "    </tr>\n",
       "    <tr>\n",
       "      <th>495</th>\n",
       "      <td>172.0</td>\n",
       "      <td>70.0</td>\n",
       "    </tr>\n",
       "    <tr>\n",
       "      <th>496</th>\n",
       "      <td>169.6</td>\n",
       "      <td>83.0</td>\n",
       "    </tr>\n",
       "    <tr>\n",
       "      <th>497</th>\n",
       "      <td>163.3</td>\n",
       "      <td>68.6</td>\n",
       "    </tr>\n",
       "    <tr>\n",
       "      <th>498</th>\n",
       "      <td>185.7</td>\n",
       "      <td>95.6</td>\n",
       "    </tr>\n",
       "    <tr>\n",
       "      <th>499</th>\n",
       "      <td>167.7</td>\n",
       "      <td>76.7</td>\n",
       "    </tr>\n",
       "  </tbody>\n",
       "</table>\n",
       "<p>500 rows × 2 columns</p>\n",
       "</div>"
      ],
      "text/plain": [
       "     height  weight\n",
       "0     188.3    85.8\n",
       "1     176.2    78.0\n",
       "2     175.9    75.6\n",
       "3     181.1    85.1\n",
       "4     182.6    82.3\n",
       "..      ...     ...\n",
       "495   172.0    70.0\n",
       "496   169.6    83.0\n",
       "497   163.3    68.6\n",
       "498   185.7    95.6\n",
       "499   167.7    76.7\n",
       "\n",
       "[500 rows x 2 columns]"
      ]
     },
     "execution_count": 37,
     "metadata": {},
     "output_type": "execute_result"
    }
   ],
   "source": [
    "body_df = pd.read_csv(\"C:/Users/GBOOK/Codeit/data (1)/data/body.csv\")\n",
    "body_df"
   ]
  },
  {
   "cell_type": "markdown",
   "id": "f2fc2d7f",
   "metadata": {},
   "source": [
    "#### Library간의 차이\n",
    "\n",
    "- pandas : n-1(표본)으로 나눠준다. 분산이 과소평가 되는 경향을 막기 위해 부풀려준다.\n",
    "- numpy : n(모집단)으로 나눠준다."
   ]
  },
  {
   "cell_type": "code",
   "execution_count": 38,
   "id": "3a2a2e7a",
   "metadata": {},
   "outputs": [
    {
     "data": {
      "text/plain": [
       "np.float64(52.92330276553105)"
      ]
     },
     "execution_count": 38,
     "metadata": {},
     "output_type": "execute_result"
    }
   ],
   "source": [
    "body_df['height'].var()"
   ]
  },
  {
   "cell_type": "code",
   "execution_count": 39,
   "id": "14386e1b",
   "metadata": {},
   "outputs": [
    {
     "data": {
      "text/plain": [
       "np.float64(52.817456159999985)"
      ]
     },
     "execution_count": 39,
     "metadata": {},
     "output_type": "execute_result"
    }
   ],
   "source": [
    "import numpy as np\n",
    "\n",
    "np.var(body_df['height'])"
   ]
  },
  {
   "cell_type": "markdown",
   "id": "0fc8fb1e",
   "metadata": {},
   "source": [
    "위에 실습 결과에서 보이는 것처럼 numpy, 모집단으로 나눠줄 때 Variance가 더 크게 나온다."
   ]
  },
  {
   "cell_type": "code",
   "execution_count": 40,
   "id": "fb38d601",
   "metadata": {},
   "outputs": [
    {
     "data": {
      "text/plain": [
       "np.float64(7.274840394505645)"
      ]
     },
     "execution_count": 40,
     "metadata": {},
     "output_type": "execute_result"
    }
   ],
   "source": [
    "body_df['height'].std()"
   ]
  },
  {
   "cell_type": "code",
   "execution_count": 41,
   "id": "5ad0b098",
   "metadata": {
    "scrolled": true
   },
   "outputs": [
    {
     "data": {
      "text/plain": [
       "np.float64(7.267561913048969)"
      ]
     },
     "execution_count": 41,
     "metadata": {},
     "output_type": "execute_result"
    }
   ],
   "source": [
    "np.std(body_df['height'])"
   ]
  },
  {
   "cell_type": "markdown",
   "id": "9f83a9af",
   "metadata": {},
   "source": [
    "표준편차를 확인해본 결과 numpy의 표준편차가 더 작게 나온다."
   ]
  },
  {
   "cell_type": "code",
   "execution_count": 43,
   "id": "c8b3a96b",
   "metadata": {
    "scrolled": true
   },
   "outputs": [
    {
     "data": {
      "text/html": [
       "<div>\n",
       "<style scoped>\n",
       "    .dataframe tbody tr th:only-of-type {\n",
       "        vertical-align: middle;\n",
       "    }\n",
       "\n",
       "    .dataframe tbody tr th {\n",
       "        vertical-align: top;\n",
       "    }\n",
       "\n",
       "    .dataframe thead th {\n",
       "        text-align: right;\n",
       "    }\n",
       "</style>\n",
       "<table border=\"1\" class=\"dataframe\">\n",
       "  <thead>\n",
       "    <tr style=\"text-align: right;\">\n",
       "      <th></th>\n",
       "      <th>height</th>\n",
       "      <th>weight</th>\n",
       "    </tr>\n",
       "  </thead>\n",
       "  <tbody>\n",
       "    <tr>\n",
       "      <th>count</th>\n",
       "      <td>500.00000</td>\n",
       "      <td>500.000000</td>\n",
       "    </tr>\n",
       "    <tr>\n",
       "      <th>mean</th>\n",
       "      <td>173.26280</td>\n",
       "      <td>75.542600</td>\n",
       "    </tr>\n",
       "    <tr>\n",
       "      <th>std</th>\n",
       "      <td>7.27484</td>\n",
       "      <td>7.303482</td>\n",
       "    </tr>\n",
       "    <tr>\n",
       "      <th>min</th>\n",
       "      <td>151.30000</td>\n",
       "      <td>54.100000</td>\n",
       "    </tr>\n",
       "    <tr>\n",
       "      <th>25%</th>\n",
       "      <td>168.50000</td>\n",
       "      <td>70.775000</td>\n",
       "    </tr>\n",
       "    <tr>\n",
       "      <th>50%</th>\n",
       "      <td>172.95000</td>\n",
       "      <td>75.300000</td>\n",
       "    </tr>\n",
       "    <tr>\n",
       "      <th>75%</th>\n",
       "      <td>178.22500</td>\n",
       "      <td>80.650000</td>\n",
       "    </tr>\n",
       "    <tr>\n",
       "      <th>max</th>\n",
       "      <td>195.80000</td>\n",
       "      <td>95.600000</td>\n",
       "    </tr>\n",
       "  </tbody>\n",
       "</table>\n",
       "</div>"
      ],
      "text/plain": [
       "          height      weight\n",
       "count  500.00000  500.000000\n",
       "mean   173.26280   75.542600\n",
       "std      7.27484    7.303482\n",
       "min    151.30000   54.100000\n",
       "25%    168.50000   70.775000\n",
       "50%    172.95000   75.300000\n",
       "75%    178.22500   80.650000\n",
       "max    195.80000   95.600000"
      ]
     },
     "execution_count": 43,
     "metadata": {},
     "output_type": "execute_result"
    }
   ],
   "source": [
    "body_df.describe()"
   ]
  },
  {
   "cell_type": "markdown",
   "id": "43439dc9",
   "metadata": {},
   "source": [
    "그렇다면, pandas에서 제공해주는 std를 확인해본 결과  7.27이 나왔다. 즉 pandas는 표본으로 진행되는걸 알 수 있다"
   ]
  },
  {
   "cell_type": "markdown",
   "id": "1089285e",
   "metadata": {},
   "source": [
    "# 5. 누적값 계산하기"
   ]
  },
  {
   "cell_type": "code",
   "execution_count": 44,
   "id": "9c968cb9",
   "metadata": {
    "scrolled": true
   },
   "outputs": [
    {
     "data": {
      "text/html": [
       "<div>\n",
       "<style scoped>\n",
       "    .dataframe tbody tr th:only-of-type {\n",
       "        vertical-align: middle;\n",
       "    }\n",
       "\n",
       "    .dataframe tbody tr th {\n",
       "        vertical-align: top;\n",
       "    }\n",
       "\n",
       "    .dataframe thead th {\n",
       "        text-align: right;\n",
       "    }\n",
       "</style>\n",
       "<table border=\"1\" class=\"dataframe\">\n",
       "  <thead>\n",
       "    <tr style=\"text-align: right;\">\n",
       "      <th></th>\n",
       "      <th>month</th>\n",
       "      <th>revenue</th>\n",
       "    </tr>\n",
       "  </thead>\n",
       "  <tbody>\n",
       "    <tr>\n",
       "      <th>0</th>\n",
       "      <td>1</td>\n",
       "      <td>35.8</td>\n",
       "    </tr>\n",
       "    <tr>\n",
       "      <th>1</th>\n",
       "      <td>2</td>\n",
       "      <td>29.7</td>\n",
       "    </tr>\n",
       "    <tr>\n",
       "      <th>2</th>\n",
       "      <td>3</td>\n",
       "      <td>36.3</td>\n",
       "    </tr>\n",
       "    <tr>\n",
       "      <th>3</th>\n",
       "      <td>4</td>\n",
       "      <td>39.6</td>\n",
       "    </tr>\n",
       "    <tr>\n",
       "      <th>4</th>\n",
       "      <td>5</td>\n",
       "      <td>45.5</td>\n",
       "    </tr>\n",
       "    <tr>\n",
       "      <th>5</th>\n",
       "      <td>6</td>\n",
       "      <td>49.4</td>\n",
       "    </tr>\n",
       "    <tr>\n",
       "      <th>6</th>\n",
       "      <td>7</td>\n",
       "      <td>105.1</td>\n",
       "    </tr>\n",
       "    <tr>\n",
       "      <th>7</th>\n",
       "      <td>8</td>\n",
       "      <td>123.5</td>\n",
       "    </tr>\n",
       "    <tr>\n",
       "      <th>8</th>\n",
       "      <td>9</td>\n",
       "      <td>155.4</td>\n",
       "    </tr>\n",
       "    <tr>\n",
       "      <th>9</th>\n",
       "      <td>10</td>\n",
       "      <td>221.8</td>\n",
       "    </tr>\n",
       "    <tr>\n",
       "      <th>10</th>\n",
       "      <td>11</td>\n",
       "      <td>257.6</td>\n",
       "    </tr>\n",
       "    <tr>\n",
       "      <th>11</th>\n",
       "      <td>12</td>\n",
       "      <td>265.3</td>\n",
       "    </tr>\n",
       "  </tbody>\n",
       "</table>\n",
       "</div>"
      ],
      "text/plain": [
       "    month  revenue\n",
       "0       1     35.8\n",
       "1       2     29.7\n",
       "2       3     36.3\n",
       "3       4     39.6\n",
       "4       5     45.5\n",
       "5       6     49.4\n",
       "6       7    105.1\n",
       "7       8    123.5\n",
       "8       9    155.4\n",
       "9      10    221.8\n",
       "10     11    257.6\n",
       "11     12    265.3"
      ]
     },
     "execution_count": 44,
     "metadata": {},
     "output_type": "execute_result"
    }
   ],
   "source": [
    "df = pd.read_csv(\"C:/Users/GBOOK/Codeit/data (1)/data/revenue.csv\")\n",
    "df"
   ]
  },
  {
   "cell_type": "code",
   "execution_count": 46,
   "id": "8afa1077",
   "metadata": {},
   "outputs": [
    {
     "data": {
      "text/plain": [
       "np.float64(1364.9999999999998)"
      ]
     },
     "execution_count": 46,
     "metadata": {},
     "output_type": "execute_result"
    }
   ],
   "source": [
    "# 연 매출\n",
    "df['revenue'].sum(axis=0)"
   ]
  },
  {
   "cell_type": "code",
   "execution_count": 48,
   "id": "7a7a7e49",
   "metadata": {},
   "outputs": [
    {
     "data": {
      "text/plain": [
       "0       35.8\n",
       "1       65.5\n",
       "2      101.8\n",
       "3      141.4\n",
       "4      186.9\n",
       "5      236.3\n",
       "6      341.4\n",
       "7      464.9\n",
       "8      620.3\n",
       "9      842.1\n",
       "10    1099.7\n",
       "11    1365.0\n",
       "Name: revenue, dtype: float64"
      ]
     },
     "execution_count": 48,
     "metadata": {},
     "output_type": "execute_result"
    }
   ],
   "source": [
    "# 월 별로 누적 매출을 확인할 수 있음\n",
    "df['revenue'].cumsum()"
   ]
  },
  {
   "cell_type": "code",
   "execution_count": 49,
   "id": "2dbcb90f",
   "metadata": {},
   "outputs": [],
   "source": [
    "df['revenue_cumsum'] = df['revenue'].cumsum()"
   ]
  },
  {
   "cell_type": "code",
   "execution_count": 60,
   "id": "52741c20",
   "metadata": {},
   "outputs": [
    {
     "data": {
      "image/png": "[encoded data removed]",
      "text/plain": [
       "<Figure size 640x480 with 1 Axes>"
      ]
     },
     "metadata": {},
     "output_type": "display_data"
    }
   ],
   "source": [
    "df['revenue_cumsum'].plot(kind='line', linestyle='--', marker='o', color='r')\n",
    "plt.title(\"revenue_cumsum\")\n",
    "plt.xlabel(\"month\")\n",
    "plt.ylabel(\"cumulative sales\")\n",
    "plt.grid()\n",
    "plt.show()"
   ]
  },
  {
   "cell_type": "code",
   "execution_count": 57,
   "id": "951d3ee7",
   "metadata": {},
   "outputs": [
    {
     "data": {
      "image/png": "[encoded data removed]",
      "text/plain": [
       "<Figure size 640x480 with 1 Axes>"
      ]
     },
     "metadata": {},
     "output_type": "display_data"
    }
   ],
   "source": [
    "df['revenue_cumsum'].plot(kind='bar')\n",
    "plt.title(\"revenue_cumsum\")\n",
    "plt.xlabel(\"month\")\n",
    "plt.ylabel(\"cumulative sales\")\n",
    "plt.grid()\n",
    "plt.show()"
   ]
  },
  {
   "cell_type": "code",
   "execution_count": 67,
   "id": "1e573ddf",
   "metadata": {},
   "outputs": [
    {
     "data": {
      "text/html": [
       "<div>\n",
       "<style scoped>\n",
       "    .dataframe tbody tr th:only-of-type {\n",
       "        vertical-align: middle;\n",
       "    }\n",
       "\n",
       "    .dataframe tbody tr th {\n",
       "        vertical-align: top;\n",
       "    }\n",
       "\n",
       "    .dataframe thead th {\n",
       "        text-align: right;\n",
       "    }\n",
       "</style>\n",
       "<table border=\"1\" class=\"dataframe\">\n",
       "  <thead>\n",
       "    <tr style=\"text-align: right;\">\n",
       "      <th></th>\n",
       "      <th>year</th>\n",
       "      <th>interest</th>\n",
       "    </tr>\n",
       "  </thead>\n",
       "  <tbody>\n",
       "    <tr>\n",
       "      <th>0</th>\n",
       "      <td>2001</td>\n",
       "      <td>0.0546</td>\n",
       "    </tr>\n",
       "    <tr>\n",
       "      <th>1</th>\n",
       "      <td>2002</td>\n",
       "      <td>0.0471</td>\n",
       "    </tr>\n",
       "    <tr>\n",
       "      <th>2</th>\n",
       "      <td>2003</td>\n",
       "      <td>0.0415</td>\n",
       "    </tr>\n",
       "    <tr>\n",
       "      <th>3</th>\n",
       "      <td>2004</td>\n",
       "      <td>0.0375</td>\n",
       "    </tr>\n",
       "    <tr>\n",
       "      <th>4</th>\n",
       "      <td>2005</td>\n",
       "      <td>0.0357</td>\n",
       "    </tr>\n",
       "  </tbody>\n",
       "</table>\n",
       "</div>"
      ],
      "text/plain": [
       "   year  interest\n",
       "0  2001    0.0546\n",
       "1  2002    0.0471\n",
       "2  2003    0.0415\n",
       "3  2004    0.0375\n",
       "4  2005    0.0357"
      ]
     },
     "execution_count": 67,
     "metadata": {},
     "output_type": "execute_result"
    }
   ],
   "source": [
    "df_10 = pd.read_csv(\"C:/Users/GBOOK/Codeit/data (1)/data/interest.csv\")\n",
    "df_10.head()"
   ]
  },
  {
   "cell_type": "code",
   "execution_count": 72,
   "id": "e637e748",
   "metadata": {},
   "outputs": [
    {
     "data": {
      "text/html": [
       "<div>\n",
       "<style scoped>\n",
       "    .dataframe tbody tr th:only-of-type {\n",
       "        vertical-align: middle;\n",
       "    }\n",
       "\n",
       "    .dataframe tbody tr th {\n",
       "        vertical-align: top;\n",
       "    }\n",
       "\n",
       "    .dataframe thead th {\n",
       "        text-align: right;\n",
       "    }\n",
       "</style>\n",
       "<table border=\"1\" class=\"dataframe\">\n",
       "  <thead>\n",
       "    <tr style=\"text-align: right;\">\n",
       "      <th></th>\n",
       "      <th>year</th>\n",
       "      <th>interest</th>\n",
       "      <th>multiple</th>\n",
       "    </tr>\n",
       "  </thead>\n",
       "  <tbody>\n",
       "    <tr>\n",
       "      <th>0</th>\n",
       "      <td>2001</td>\n",
       "      <td>0.0546</td>\n",
       "      <td>1.0546</td>\n",
       "    </tr>\n",
       "    <tr>\n",
       "      <th>1</th>\n",
       "      <td>2002</td>\n",
       "      <td>0.0471</td>\n",
       "      <td>1.0471</td>\n",
       "    </tr>\n",
       "    <tr>\n",
       "      <th>2</th>\n",
       "      <td>2003</td>\n",
       "      <td>0.0415</td>\n",
       "      <td>1.0415</td>\n",
       "    </tr>\n",
       "    <tr>\n",
       "      <th>3</th>\n",
       "      <td>2004</td>\n",
       "      <td>0.0375</td>\n",
       "      <td>1.0375</td>\n",
       "    </tr>\n",
       "    <tr>\n",
       "      <th>4</th>\n",
       "      <td>2005</td>\n",
       "      <td>0.0357</td>\n",
       "      <td>1.0357</td>\n",
       "    </tr>\n",
       "  </tbody>\n",
       "</table>\n",
       "</div>"
      ],
      "text/plain": [
       "   year  interest  multiple\n",
       "0  2001    0.0546    1.0546\n",
       "1  2002    0.0471    1.0471\n",
       "2  2003    0.0415    1.0415\n",
       "3  2004    0.0375    1.0375\n",
       "4  2005    0.0357    1.0357"
      ]
     },
     "execution_count": 72,
     "metadata": {},
     "output_type": "execute_result"
    }
   ],
   "source": [
    "df_10['multiple'] = df_10['interest'] + 1 # 이자 계산\n",
    "\n",
    "df_10.head()"
   ]
  },
  {
   "cell_type": "code",
   "execution_count": 73,
   "id": "60b5c225",
   "metadata": {},
   "outputs": [
    {
     "data": {
      "text/plain": [
       "0     1.054600\n",
       "1     1.104272\n",
       "2     1.150099\n",
       "3     1.193228\n",
       "4     1.235826\n",
       "5     1.289708\n",
       "6     1.354322\n",
       "7     1.431112\n",
       "8     1.477337\n",
       "9     1.524317\n",
       "10    1.580564\n",
       "11    1.634777\n",
       "12    1.678916\n",
       "13    1.719546\n",
       "14    1.749122\n",
       "15    1.774834\n",
       "16    1.801634\n",
       "17    1.834784\n",
       "18    1.866710\n",
       "19    1.886123\n",
       "Name: multiple, dtype: float64"
      ]
     },
     "execution_count": 73,
     "metadata": {},
     "output_type": "execute_result"
    }
   ],
   "source": [
    "df_10['multiple'].cumprod()"
   ]
  },
  {
   "cell_type": "markdown",
   "id": "4dcef760",
   "metadata": {},
   "source": [
    "즉 20년동안 이자 혜택을 받았다면, 88%를 받을 수 있었다."
   ]
  }
 ],
 "metadata": {
  "kernelspec": {
   "display_name": "Python 3 (ipykernel)",
   "language": "python",
   "name": "python3"
  },
  "language_info": {
   "codemirror_mode": {
    "name": "ipython",
    "version": 3
   },
   "file_extension": ".py",
   "mimetype": "text/x-python",
   "name": "python",
   "nbconvert_exporter": "python",
   "pygments_lexer": "ipython3",
   "version": "3.12.7"
  }
 },
 "nbformat": 4,
 "nbformat_minor": 5
}
